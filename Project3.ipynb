{
 "cells": [
  {
   "cell_type": "markdown",
   "id": "c0005e55",
   "metadata": {},
   "source": [
    "# Project 3\n",
    "## Thomas Clark\n",
    "### Fall2021, CPSC483-01\n",
    "***\n",
    "In this project you will use scikit-learn, which is a higher-level machine learning library that works with NumPy data, and Pandas, a library that makes it easier to manipulate data. You will explore a variety of classification algorithms, and compare their performance on a “real-world” dataset, which will introduce its own set of challenges.\n",
    "***\n",
    "### 1. Download bank-additional.zip and extract its contents. Use pandas.read_csv() to load and examine the dataset from bank-additional-full.csv, and pandas.DataFrame.head() to examine its contents.\n",
    "***"
   ]
  },
  {
   "cell_type": "code",
   "execution_count": 254,
   "id": "6585986b",
   "metadata": {},
   "outputs": [
    {
     "data": {
      "text/html": [
       "<div>\n",
       "<style scoped>\n",
       "    .dataframe tbody tr th:only-of-type {\n",
       "        vertical-align: middle;\n",
       "    }\n",
       "\n",
       "    .dataframe tbody tr th {\n",
       "        vertical-align: top;\n",
       "    }\n",
       "\n",
       "    .dataframe thead th {\n",
       "        text-align: right;\n",
       "    }\n",
       "</style>\n",
       "<table border=\"1\" class=\"dataframe\">\n",
       "  <thead>\n",
       "    <tr style=\"text-align: right;\">\n",
       "      <th></th>\n",
       "      <th>age</th>\n",
       "      <th>job</th>\n",
       "      <th>marital</th>\n",
       "      <th>education</th>\n",
       "      <th>default</th>\n",
       "      <th>housing</th>\n",
       "      <th>loan</th>\n",
       "      <th>contact</th>\n",
       "      <th>month</th>\n",
       "      <th>day_of_week</th>\n",
       "      <th>...</th>\n",
       "      <th>campaign</th>\n",
       "      <th>pdays</th>\n",
       "      <th>previous</th>\n",
       "      <th>poutcome</th>\n",
       "      <th>emp.var.rate</th>\n",
       "      <th>cons.price.idx</th>\n",
       "      <th>cons.conf.idx</th>\n",
       "      <th>euribor3m</th>\n",
       "      <th>nr.employed</th>\n",
       "      <th>y</th>\n",
       "    </tr>\n",
       "  </thead>\n",
       "  <tbody>\n",
       "    <tr>\n",
       "      <th>0</th>\n",
       "      <td>56</td>\n",
       "      <td>housemaid</td>\n",
       "      <td>married</td>\n",
       "      <td>basic.4y</td>\n",
       "      <td>no</td>\n",
       "      <td>no</td>\n",
       "      <td>no</td>\n",
       "      <td>telephone</td>\n",
       "      <td>may</td>\n",
       "      <td>mon</td>\n",
       "      <td>...</td>\n",
       "      <td>1</td>\n",
       "      <td>999</td>\n",
       "      <td>0</td>\n",
       "      <td>nonexistent</td>\n",
       "      <td>1.1</td>\n",
       "      <td>93.994</td>\n",
       "      <td>-36.4</td>\n",
       "      <td>4.857</td>\n",
       "      <td>5191.0</td>\n",
       "      <td>no</td>\n",
       "    </tr>\n",
       "    <tr>\n",
       "      <th>1</th>\n",
       "      <td>57</td>\n",
       "      <td>services</td>\n",
       "      <td>married</td>\n",
       "      <td>high.school</td>\n",
       "      <td>unknown</td>\n",
       "      <td>no</td>\n",
       "      <td>no</td>\n",
       "      <td>telephone</td>\n",
       "      <td>may</td>\n",
       "      <td>mon</td>\n",
       "      <td>...</td>\n",
       "      <td>1</td>\n",
       "      <td>999</td>\n",
       "      <td>0</td>\n",
       "      <td>nonexistent</td>\n",
       "      <td>1.1</td>\n",
       "      <td>93.994</td>\n",
       "      <td>-36.4</td>\n",
       "      <td>4.857</td>\n",
       "      <td>5191.0</td>\n",
       "      <td>no</td>\n",
       "    </tr>\n",
       "    <tr>\n",
       "      <th>2</th>\n",
       "      <td>37</td>\n",
       "      <td>services</td>\n",
       "      <td>married</td>\n",
       "      <td>high.school</td>\n",
       "      <td>no</td>\n",
       "      <td>yes</td>\n",
       "      <td>no</td>\n",
       "      <td>telephone</td>\n",
       "      <td>may</td>\n",
       "      <td>mon</td>\n",
       "      <td>...</td>\n",
       "      <td>1</td>\n",
       "      <td>999</td>\n",
       "      <td>0</td>\n",
       "      <td>nonexistent</td>\n",
       "      <td>1.1</td>\n",
       "      <td>93.994</td>\n",
       "      <td>-36.4</td>\n",
       "      <td>4.857</td>\n",
       "      <td>5191.0</td>\n",
       "      <td>no</td>\n",
       "    </tr>\n",
       "    <tr>\n",
       "      <th>3</th>\n",
       "      <td>40</td>\n",
       "      <td>admin.</td>\n",
       "      <td>married</td>\n",
       "      <td>basic.6y</td>\n",
       "      <td>no</td>\n",
       "      <td>no</td>\n",
       "      <td>no</td>\n",
       "      <td>telephone</td>\n",
       "      <td>may</td>\n",
       "      <td>mon</td>\n",
       "      <td>...</td>\n",
       "      <td>1</td>\n",
       "      <td>999</td>\n",
       "      <td>0</td>\n",
       "      <td>nonexistent</td>\n",
       "      <td>1.1</td>\n",
       "      <td>93.994</td>\n",
       "      <td>-36.4</td>\n",
       "      <td>4.857</td>\n",
       "      <td>5191.0</td>\n",
       "      <td>no</td>\n",
       "    </tr>\n",
       "    <tr>\n",
       "      <th>4</th>\n",
       "      <td>56</td>\n",
       "      <td>services</td>\n",
       "      <td>married</td>\n",
       "      <td>high.school</td>\n",
       "      <td>no</td>\n",
       "      <td>no</td>\n",
       "      <td>yes</td>\n",
       "      <td>telephone</td>\n",
       "      <td>may</td>\n",
       "      <td>mon</td>\n",
       "      <td>...</td>\n",
       "      <td>1</td>\n",
       "      <td>999</td>\n",
       "      <td>0</td>\n",
       "      <td>nonexistent</td>\n",
       "      <td>1.1</td>\n",
       "      <td>93.994</td>\n",
       "      <td>-36.4</td>\n",
       "      <td>4.857</td>\n",
       "      <td>5191.0</td>\n",
       "      <td>no</td>\n",
       "    </tr>\n",
       "  </tbody>\n",
       "</table>\n",
       "<p>5 rows × 21 columns</p>\n",
       "</div>"
      ],
      "text/plain": [
       "   age        job  marital    education  default housing loan    contact  \\\n",
       "0   56  housemaid  married     basic.4y       no      no   no  telephone   \n",
       "1   57   services  married  high.school  unknown      no   no  telephone   \n",
       "2   37   services  married  high.school       no     yes   no  telephone   \n",
       "3   40     admin.  married     basic.6y       no      no   no  telephone   \n",
       "4   56   services  married  high.school       no      no  yes  telephone   \n",
       "\n",
       "  month day_of_week  ...  campaign  pdays  previous     poutcome emp.var.rate  \\\n",
       "0   may         mon  ...         1    999         0  nonexistent          1.1   \n",
       "1   may         mon  ...         1    999         0  nonexistent          1.1   \n",
       "2   may         mon  ...         1    999         0  nonexistent          1.1   \n",
       "3   may         mon  ...         1    999         0  nonexistent          1.1   \n",
       "4   may         mon  ...         1    999         0  nonexistent          1.1   \n",
       "\n",
       "   cons.price.idx  cons.conf.idx  euribor3m  nr.employed   y  \n",
       "0          93.994          -36.4      4.857       5191.0  no  \n",
       "1          93.994          -36.4      4.857       5191.0  no  \n",
       "2          93.994          -36.4      4.857       5191.0  no  \n",
       "3          93.994          -36.4      4.857       5191.0  no  \n",
       "4          93.994          -36.4      4.857       5191.0  no  \n",
       "\n",
       "[5 rows x 21 columns]"
      ]
     },
     "execution_count": 254,
     "metadata": {},
     "output_type": "execute_result"
    }
   ],
   "source": [
    "import pandas as pd\n",
    "import numpy as np\n",
    "import matplotlib.pyplot as plt\n",
    "import sklearn\n",
    "\n",
    "RSTATE = (2021-10-25)\n",
    "\n",
    "banknames = pd.read_csv('bank-additional-full.csv', delimiter = ';')\n",
    "banknames.head()"
   ]
  },
  {
   "cell_type": "markdown",
   "id": "94cae3b9",
   "metadata": {},
   "source": [
    "***\n",
    "### 2. Use sklearn.model_selection.train_test_split() to split the features and target values into separate training and test sets. Since the dataset is large, use 90% of the original data as a training set, and 10% for testing. To make sure that your results are reproducible, pass the keyword argument random_state=(2021-10-25).\n",
    "***"
   ]
  },
  {
   "cell_type": "code",
   "execution_count": 255,
   "id": "72c83202",
   "metadata": {},
   "outputs": [
    {
     "name": "stdout",
     "output_type": "stream",
     "text": [
      "37069 Items in training set\n",
      "4119  Items in testing set\n",
      "41188 Items total\n"
     ]
    }
   ],
   "source": [
    "from sklearn.model_selection import train_test_split\n",
    "\n",
    "training, testing = train_test_split(banknames, test_size = .1, random_state = RSTATE)\n",
    "\n",
    "print(len(training), \"Items in training set\")\n",
    "print(len(testing), \" Items in testing set\")\n",
    "print((len(testing)+len(training)), \"Items total\")"
   ]
  },
  {
   "cell_type": "markdown",
   "id": "d21b7b03",
   "metadata": {},
   "source": [
    "***\n",
    "### 3. Your training and test sets will need some significant preprocessing before they can be used: <br><br> a) Per the description in bank-additional-names.txt, the duration “should be discarded if the intention is to have a realistic predictive model.” <br><br> b) The feature y is the target response; set this aside for use in training and testing, then drop it from your features.\n",
    "***"
   ]
  },
  {
   "cell_type": "code",
   "execution_count": 256,
   "id": "113f528d",
   "metadata": {},
   "outputs": [
    {
     "data": {
      "text/html": [
       "<div>\n",
       "<style scoped>\n",
       "    .dataframe tbody tr th:only-of-type {\n",
       "        vertical-align: middle;\n",
       "    }\n",
       "\n",
       "    .dataframe tbody tr th {\n",
       "        vertical-align: top;\n",
       "    }\n",
       "\n",
       "    .dataframe thead th {\n",
       "        text-align: right;\n",
       "    }\n",
       "</style>\n",
       "<table border=\"1\" class=\"dataframe\">\n",
       "  <thead>\n",
       "    <tr style=\"text-align: right;\">\n",
       "      <th></th>\n",
       "      <th>age</th>\n",
       "      <th>job</th>\n",
       "      <th>marital</th>\n",
       "      <th>education</th>\n",
       "      <th>default</th>\n",
       "      <th>housing</th>\n",
       "      <th>loan</th>\n",
       "      <th>contact</th>\n",
       "      <th>month</th>\n",
       "      <th>day_of_week</th>\n",
       "      <th>campaign</th>\n",
       "      <th>pdays</th>\n",
       "      <th>previous</th>\n",
       "      <th>poutcome</th>\n",
       "      <th>emp.var.rate</th>\n",
       "      <th>cons.price.idx</th>\n",
       "      <th>cons.conf.idx</th>\n",
       "      <th>euribor3m</th>\n",
       "      <th>nr.employed</th>\n",
       "    </tr>\n",
       "  </thead>\n",
       "  <tbody>\n",
       "    <tr>\n",
       "      <th>22975</th>\n",
       "      <td>56</td>\n",
       "      <td>retired</td>\n",
       "      <td>married</td>\n",
       "      <td>professional.course</td>\n",
       "      <td>no</td>\n",
       "      <td>yes</td>\n",
       "      <td>no</td>\n",
       "      <td>cellular</td>\n",
       "      <td>aug</td>\n",
       "      <td>mon</td>\n",
       "      <td>5</td>\n",
       "      <td>999</td>\n",
       "      <td>0</td>\n",
       "      <td>nonexistent</td>\n",
       "      <td>1.4</td>\n",
       "      <td>93.444</td>\n",
       "      <td>-36.1</td>\n",
       "      <td>4.965</td>\n",
       "      <td>5228.1</td>\n",
       "    </tr>\n",
       "    <tr>\n",
       "      <th>14746</th>\n",
       "      <td>26</td>\n",
       "      <td>technician</td>\n",
       "      <td>single</td>\n",
       "      <td>professional.course</td>\n",
       "      <td>no</td>\n",
       "      <td>unknown</td>\n",
       "      <td>unknown</td>\n",
       "      <td>cellular</td>\n",
       "      <td>jul</td>\n",
       "      <td>wed</td>\n",
       "      <td>1</td>\n",
       "      <td>999</td>\n",
       "      <td>0</td>\n",
       "      <td>nonexistent</td>\n",
       "      <td>1.4</td>\n",
       "      <td>93.918</td>\n",
       "      <td>-42.7</td>\n",
       "      <td>4.957</td>\n",
       "      <td>5228.1</td>\n",
       "    </tr>\n",
       "    <tr>\n",
       "      <th>12505</th>\n",
       "      <td>38</td>\n",
       "      <td>admin.</td>\n",
       "      <td>divorced</td>\n",
       "      <td>high.school</td>\n",
       "      <td>no</td>\n",
       "      <td>yes</td>\n",
       "      <td>no</td>\n",
       "      <td>cellular</td>\n",
       "      <td>jul</td>\n",
       "      <td>mon</td>\n",
       "      <td>1</td>\n",
       "      <td>999</td>\n",
       "      <td>0</td>\n",
       "      <td>nonexistent</td>\n",
       "      <td>1.4</td>\n",
       "      <td>93.918</td>\n",
       "      <td>-42.7</td>\n",
       "      <td>4.960</td>\n",
       "      <td>5228.1</td>\n",
       "    </tr>\n",
       "    <tr>\n",
       "      <th>6801</th>\n",
       "      <td>33</td>\n",
       "      <td>admin.</td>\n",
       "      <td>divorced</td>\n",
       "      <td>university.degree</td>\n",
       "      <td>no</td>\n",
       "      <td>no</td>\n",
       "      <td>no</td>\n",
       "      <td>telephone</td>\n",
       "      <td>may</td>\n",
       "      <td>wed</td>\n",
       "      <td>2</td>\n",
       "      <td>999</td>\n",
       "      <td>0</td>\n",
       "      <td>nonexistent</td>\n",
       "      <td>1.1</td>\n",
       "      <td>93.994</td>\n",
       "      <td>-36.4</td>\n",
       "      <td>4.857</td>\n",
       "      <td>5191.0</td>\n",
       "    </tr>\n",
       "    <tr>\n",
       "      <th>18389</th>\n",
       "      <td>29</td>\n",
       "      <td>admin.</td>\n",
       "      <td>married</td>\n",
       "      <td>high.school</td>\n",
       "      <td>no</td>\n",
       "      <td>no</td>\n",
       "      <td>no</td>\n",
       "      <td>cellular</td>\n",
       "      <td>jul</td>\n",
       "      <td>thu</td>\n",
       "      <td>3</td>\n",
       "      <td>999</td>\n",
       "      <td>0</td>\n",
       "      <td>nonexistent</td>\n",
       "      <td>1.4</td>\n",
       "      <td>93.918</td>\n",
       "      <td>-42.7</td>\n",
       "      <td>4.968</td>\n",
       "      <td>5228.1</td>\n",
       "    </tr>\n",
       "  </tbody>\n",
       "</table>\n",
       "</div>"
      ],
      "text/plain": [
       "       age         job   marital            education default  housing  \\\n",
       "22975   56     retired   married  professional.course      no      yes   \n",
       "14746   26  technician    single  professional.course      no  unknown   \n",
       "12505   38      admin.  divorced          high.school      no      yes   \n",
       "6801    33      admin.  divorced    university.degree      no       no   \n",
       "18389   29      admin.   married          high.school      no       no   \n",
       "\n",
       "          loan    contact month day_of_week  campaign  pdays  previous  \\\n",
       "22975       no   cellular   aug         mon         5    999         0   \n",
       "14746  unknown   cellular   jul         wed         1    999         0   \n",
       "12505       no   cellular   jul         mon         1    999         0   \n",
       "6801        no  telephone   may         wed         2    999         0   \n",
       "18389       no   cellular   jul         thu         3    999         0   \n",
       "\n",
       "          poutcome  emp.var.rate  cons.price.idx  cons.conf.idx  euribor3m  \\\n",
       "22975  nonexistent           1.4          93.444          -36.1      4.965   \n",
       "14746  nonexistent           1.4          93.918          -42.7      4.957   \n",
       "12505  nonexistent           1.4          93.918          -42.7      4.960   \n",
       "6801   nonexistent           1.1          93.994          -36.4      4.857   \n",
       "18389  nonexistent           1.4          93.918          -42.7      4.968   \n",
       "\n",
       "       nr.employed  \n",
       "22975       5228.1  \n",
       "14746       5228.1  \n",
       "12505       5228.1  \n",
       "6801        5191.0  \n",
       "18389       5228.1  "
      ]
     },
     "execution_count": 256,
     "metadata": {},
     "output_type": "execute_result"
    }
   ],
   "source": [
    "yTrain = training.get('y').replace('no', 0).replace('yes',1)\n",
    "yTest = testing.get('y').replace('no', 0).replace('yes',1)\n",
    "\n",
    "training.drop(columns = ['duration', 'y'], inplace = True)\n",
    "testing.drop(columns = ['duration', 'y'], inplace = True)\n",
    "\n",
    "training.head()"
   ]
  },
  {
   "cell_type": "markdown",
   "id": "74887bb1",
   "metadata": {},
   "source": [
    "***\n",
    "### 4. First, let’s see if we can determine whether a client will subscribe to a term deposit based on what we know about them. Let’s take as input features the variables described as “bank client data” in bank-additional-names.txt.\n",
    "***"
   ]
  },
  {
   "cell_type": "code",
   "execution_count": 257,
   "id": "613a0b0c",
   "metadata": {},
   "outputs": [
    {
     "name": "stdout",
     "output_type": "stream",
     "text": [
      "\n"
     ]
    }
   ],
   "source": [
    "def catEncode(dataSet):\n",
    "\n",
    "    dataSet = pd.concat([dataSet, pd.get_dummies(dataSet.get('job'), prefix = 'job', drop_first = True)], axis = 1, sort = False, join = 'inner')\n",
    "    dataSet = pd.concat([dataSet, pd.get_dummies(dataSet.get('marital'), prefix = 'marital', drop_first = True)], axis = 1, sort = False, join = 'inner')\n",
    "    dataSet = pd.concat([dataSet, pd.get_dummies(dataSet.get('education'), prefix = 'education', drop_first = True)], axis = 1, sort = False, join = 'inner')\n",
    "    dataSet = pd.concat([dataSet, pd.get_dummies(dataSet.get('default'), prefix = 'default', drop_first = True)], axis = 1, sort = False, join = 'inner')\n",
    "    dataSet = pd.concat([dataSet, pd.get_dummies(dataSet.get('housing'), prefix = 'housing', drop_first = True)], axis = 1, sort = False, join = 'inner')\n",
    "    dataSet = pd.concat([dataSet, pd.get_dummies(dataSet.get('loan'), prefix = 'loan', drop_first = True)], axis = 1, sort = False, join = 'inner')\n",
    "    #dataSet = pd.concat([dataSet, pd.get_dummies(dataSet.get('contact'), prefix = 'contact', drop_first = True)], axis = 1, sort = False, join = 'inner')\n",
    "    #dataSet = pd.concat([dataSet, pd.get_dummies(dataSet.get('month'), prefix = 'month', drop_first = True)], axis = 1, sort = False, join = 'inner')\n",
    "    #dataSet = pd.concat([dataSet, pd.get_dummies(dataSet.get('day_of_week'), prefix = 'day_of_week', drop_first = True)], axis = 1, sort = False, join = 'inner')\n",
    "    #dataSet = pd.concat([dataSet, pd.get_dummies(dataSet.get('poutcome'), prefix = 'poutcome', drop_first = True)], axis = 1, sort = False, join = 'inner')\n",
    "        \n",
    "    dataSet.drop(columns = ['job', 'marital', 'education', 'default', 'housing', 'loan'], inplace = True)\n",
    "    dataSet.drop(columns = ['contact', 'month', 'day_of_week', 'campaign', 'pdays', 'previous', 'poutcome'], inplace = True) #Discard other/extra attributes\n",
    "    \n",
    "    return dataSet\n",
    "    \n",
    "trainingSE = catEncode(training) #Set aside the social/economic factors for later\n",
    "testingSE = catEncode(testing)\n",
    "\n",
    "training = trainingSE.copy()\n",
    "testing = testingSE.copy()\n",
    "training.drop(columns = ['emp.var.rate', 'cons.price.idx', 'cons.conf.idx', 'euribor3m', 'nr.employed'], inplace = True)\n",
    "testing.drop(columns = ['emp.var.rate', 'cons.price.idx', 'cons.conf.idx', 'euribor3m', 'nr.employed'], inplace = True)\n",
    "\n",
    "trainingSE.drop(columns = ['age', 'job_blue-collar', 'job_entrepreneur', 'job_housemaid',\n",
    "       'job_management', 'job_retired', 'job_self-employed', 'job_services',\n",
    "       'job_student', 'job_technician', 'job_unemployed', 'job_unknown',\n",
    "       'marital_married', 'marital_single', 'marital_unknown',\n",
    "       'education_basic.6y', 'education_basic.9y', 'education_high.school',\n",
    "       'education_illiterate', 'education_professional.course',\n",
    "       'education_university.degree', 'education_unknown', 'default_unknown',\n",
    "       'default_yes', 'housing_unknown', 'housing_yes', 'loan_unknown',\n",
    "       'loan_yes'])\n",
    "\n",
    "testingSE.drop(columns = ['age', 'job_blue-collar', 'job_entrepreneur', 'job_housemaid',\n",
    "       'job_management', 'job_retired', 'job_self-employed', 'job_services',\n",
    "       'job_student', 'job_technician', 'job_unemployed', 'job_unknown',\n",
    "       'marital_married', 'marital_single', 'marital_unknown',\n",
    "       'education_basic.6y', 'education_basic.9y', 'education_high.school',\n",
    "       'education_illiterate', 'education_professional.course',\n",
    "       'education_university.degree', 'education_unknown', 'default_unknown',\n",
    "       'default_yes', 'housing_unknown', 'housing_yes', 'loan_unknown',\n",
    "       'loan_yes'])\n",
    "\n",
    "print()"
   ]
  },
  {
   "cell_type": "markdown",
   "id": "b5555b72",
   "metadata": {},
   "source": [
    "***\n",
    "### 5. Use scikit-learn to fit a Categorical Naive Bayes classifier to the training set, then score it on both the training and test sets. How accurate is the classifier?\n",
    "***"
   ]
  },
  {
   "cell_type": "code",
   "execution_count": 258,
   "id": "5b26b446",
   "metadata": {},
   "outputs": [
    {
     "name": "stdout",
     "output_type": "stream",
     "text": [
      "Training Score:  0.8818689470986538\n",
      "Test Score:  0.8788540907987376\n"
     ]
    }
   ],
   "source": [
    "from sklearn.naive_bayes import CategoricalNB\n",
    "\n",
    "cnb = CategoricalNB()\n",
    "\n",
    "cnb.fit(training, yTrain)\n",
    "\n",
    "print(\"Training Score: \", cnb.score(training, yTrain))\n",
    "print(\"Test Score: \", cnb.score(testing, yTest))"
   ]
  },
  {
   "cell_type": "markdown",
   "id": "c8a23b6f",
   "metadata": {},
   "source": [
    "We see that the Categorical Naive Bayes classifier is returning ~86% accuracy on both the training and test sets.\n",
    "***\n",
    "### 6. Take another look at the data you used for the previous experiment. Most of the data is categorical, but age is a quantitative predictor. Categorical Naive Bayes assumes that each value of the age variable is a separate category. How many categories are there? Is this reasonable?\n",
    "***"
   ]
  },
  {
   "cell_type": "code",
   "execution_count": 259,
   "id": "d993001e",
   "metadata": {},
   "outputs": [
    {
     "name": "stdout",
     "output_type": "stream",
     "text": [
      "78 different catagories for age\n"
     ]
    }
   ],
   "source": [
    "print(banknames['age'].nunique(), \"different catagories for age\")"
   ]
  },
  {
   "cell_type": "markdown",
   "id": "86267b83",
   "metadata": {},
   "source": [
    "This is not reasonable as the difference in one year may have different outcomes that affect the classifier more than they would if this data was aggregated into larger chunks.\n",
    "***\n",
    "### 7. Try splitting ages into bins, one per decade. Verify the number of bins, then re-train your classifier the bins instead of the original age value. Does its performance change?\n",
    "***"
   ]
  },
  {
   "cell_type": "code",
   "execution_count": 260,
   "id": "95580de9",
   "metadata": {},
   "outputs": [
    {
     "name": "stdout",
     "output_type": "stream",
     "text": [
      "9 different catagories for age\n",
      "\n",
      "Training Score:  0.8812484825595511\n",
      "Test Score:  0.8786113134255887\n"
     ]
    }
   ],
   "source": [
    "training2 = training\n",
    "testing2 = testing\n",
    "\n",
    "training2['age'] = training2['age'].floordiv(10) #divide by 10 and chop off the decimal - sorted by decade\n",
    "testing2['age'] = testing2['age'].floordiv(10)\n",
    "\n",
    "print((banknames['age'].floordiv(10)).nunique(), \"different catagories for age\\n\")\n",
    "\n",
    "cnb.fit(training2, yTrain)\n",
    "\n",
    "print(\"Training Score: \", cnb.score(training2, yTrain))\n",
    "print(\"Test Score: \", cnb.score(testing2, yTest))"
   ]
  },
  {
   "cell_type": "markdown",
   "id": "41438c92",
   "metadata": {},
   "source": [
    "While the classifiers performance did slightly change, it was not in any significant amount. Decade age of the individual has similar weight to just the age of the individual.\n",
    "***\n",
    "### 8. Repeat experiment (5) (i.e. with the original age values) with a KNN classifier. How do the results compare?\n",
    "***"
   ]
  },
  {
   "cell_type": "code",
   "execution_count": 261,
   "id": "2ba88288",
   "metadata": {},
   "outputs": [
    {
     "name": "stdout",
     "output_type": "stream",
     "text": [
      "Training Score:  0.8857266179287275\n",
      "Test Score:  0.876911871813547\n"
     ]
    }
   ],
   "source": [
    "from sklearn.neighbors import KNeighborsClassifier\n",
    "\n",
    "knn = KNeighborsClassifier(n_neighbors = 2)\n",
    "\n",
    "knn.fit(training, yTrain)\n",
    "\n",
    "print(\"Training Score: \", knn.score(training, yTrain))\n",
    "print(\"Test Score: \", knn.score(testing, yTest))"
   ]
  },
  {
   "cell_type": "markdown",
   "id": "50d2b5e0",
   "metadata": {},
   "source": [
    "These results are only marginally better than what was achieved with the categorical naiave Bayes classifier, though in testing we achive almost the same result as the Bayes classifier.\n",
    "***\n",
    "### 9. How many values in the test set have response 0, and how many have response 1? What would be the score if we simply assumed that no customer ever subscribed to the product?\n",
    "***"
   ]
  },
  {
   "cell_type": "code",
   "execution_count": 262,
   "id": "03e35a07",
   "metadata": {},
   "outputs": [
    {
     "name": "stdout",
     "output_type": "stream",
     "text": [
      "0    36548\n",
      "1     4640\n",
      "Name: y, dtype: int64\n",
      "\n",
      "Percent of non subscribers:  0.8873458288821987\n"
     ]
    }
   ],
   "source": [
    "counts = (yTrain.value_counts() + yTest.value_counts())\n",
    "\n",
    "print(counts)\n",
    "\n",
    "print(\"\\nPercent of non subscribers: \", counts[0]/counts.sum())"
   ]
  },
  {
   "cell_type": "markdown",
   "id": "d0864414",
   "metadata": {},
   "source": [
    "If we were just to blindly predict no for each test we would actually test better than our classifiers and even outpreform the training for the Bayes classifiers.\n",
    "***\n",
    "### 10. Use numpy.zeros_like() to create a target vector representing the output of the “dumb” classifier described in the previous experiment, then create a confusion matrix and find its AUC.\n",
    "***"
   ]
  },
  {
   "cell_type": "code",
   "execution_count": 263,
   "id": "9477e4a7",
   "metadata": {},
   "outputs": [
    {
     "name": "stdout",
     "output_type": "stream",
     "text": [
      "[[TN,FP],[FN,TP]]\n",
      " [[36548     0]\n",
      " [ 4640     0]]\n",
      "ROC Area under curve:  0.5\n"
     ]
    },
    {
     "data": {
      "text/plain": [
       "<sklearn.metrics._plot.roc_curve.RocCurveDisplay at 0x1da86ff0dc0>"
      ]
     },
     "execution_count": 263,
     "metadata": {},
     "output_type": "execute_result"
    },
    {
     "data": {
      "image/png": "[encoded data removed]",
      "text/plain": [
       "<Figure size 432x288 with 1 Axes>"
      ]
     },
     "metadata": {
      "needs_background": "light"
     },
     "output_type": "display_data"
    }
   ],
   "source": [
    "from sklearn.metrics import confusion_matrix\n",
    "from sklearn.metrics import roc_auc_score\n",
    "from sklearn.metrics import RocCurveDisplay\n",
    "\n",
    "fullSet = pd.concat([training2, testing2])\n",
    "fullTarget = pd.concat([yTrain, yTest])\n",
    "dumbTarget = np.zeros_like(fullTarget)\n",
    "\n",
    "print(\"[[TN,FP],[FN,TP]]\\n\",\n",
    "confusion_matrix(fullTarget, dumbTarget))\n",
    "print(\"ROC Area under curve: \", roc_auc_score(fullTarget, dumbTarget))\n",
    "RocCurveDisplay.from_predictions(fullTarget, dumbTarget)"
   ]
  },
  {
   "cell_type": "markdown",
   "id": "1a6f73bb",
   "metadata": {},
   "source": [
    "***\n",
    "### 11. Create confusion matrices and compute the AUC for each of the classifiers in experiments (7) and (8). How well are these classifiers actually performing?\n",
    "***"
   ]
  },
  {
   "cell_type": "code",
   "execution_count": 264,
   "id": "351a782b",
   "metadata": {},
   "outputs": [
    {
     "name": "stdout",
     "output_type": "stream",
     "text": [
      "Categorical Naive Bayes:\n",
      "[[TN,FP],[FN,TP]]\n",
      " [[35358  1190]\n",
      " [ 4476   164]]\n",
      "ROC Area under curve:  0.5013924531933442\n"
     ]
    },
    {
     "data": {
      "image/png": "[encoded data removed]",
      "text/plain": [
       "<Figure size 432x288 with 1 Axes>"
      ]
     },
     "metadata": {
      "needs_background": "light"
     },
     "output_type": "display_data"
    },
    {
     "name": "stdout",
     "output_type": "stream",
     "text": [
      "\n",
      "Nearest Neighbor:\n",
      "[[TN,FP],[FN,TP]]\n",
      " [[35895   653]\n",
      " [ 4554    86]]\n",
      "ROC Area under curve:  0.500333784008182\n"
     ]
    },
    {
     "data": {
      "text/plain": [
       "<sklearn.metrics._plot.roc_curve.RocCurveDisplay at 0x1da82782ca0>"
      ]
     },
     "execution_count": 264,
     "metadata": {},
     "output_type": "execute_result"
    },
    {
     "data": {
      "image/png": "[encoded data removed]",
      "text/plain": [
       "<Figure size 432x288 with 1 Axes>"
      ]
     },
     "metadata": {
      "needs_background": "light"
     },
     "output_type": "display_data"
    }
   ],
   "source": [
    "cnbScore = cnb.predict(pd.concat([testing, training]))\n",
    "knnScore = knn.predict(pd.concat([testing, training]))\n",
    "\n",
    "print(\"Categorical Naive Bayes:\")\n",
    "print(\"[[TN,FP],[FN,TP]]\\n\", confusion_matrix(fullTarget, cnbScore))\n",
    "print(\"ROC Area under curve: \", roc_auc_score(fullTarget, cnbScore))\n",
    "RocCurveDisplay.from_predictions(fullTarget, cnbScore)\n",
    "plt.show()\n",
    "\n",
    "print(\"\\nNearest Neighbor:\")\n",
    "print(\"[[TN,FP],[FN,TP]]\\n\", confusion_matrix(fullTarget, knnScore))\n",
    "print(\"ROC Area under curve: \", roc_auc_score(fullTarget, knnScore))\n",
    "RocCurveDisplay.from_predictions(fullTarget, knnScore)"
   ]
  },
  {
   "cell_type": "markdown",
   "id": "8aa3ef9e",
   "metadata": {},
   "source": [
    "It appears from the results that these classifiers are randomly guessing with a AUC of .5\n",
    "***\n",
    "### 12. It should be clear from your results that we are dealing with imbalanced data. One of the easiest ways to deal with an unbalanced dataset is random oversampling.\n",
    "***"
   ]
  },
  {
   "cell_type": "code",
   "execution_count": 265,
   "id": "1459439c",
   "metadata": {},
   "outputs": [
    {
     "name": "stdout",
     "output_type": "stream",
     "text": [
      "Oversampled set:\n"
     ]
    },
    {
     "data": {
      "text/plain": [
       "1    23120\n",
       "0    18068\n",
       "Name: y, dtype: int64"
      ]
     },
     "execution_count": 265,
     "metadata": {},
     "output_type": "execute_result"
    }
   ],
   "source": [
    "balancedSet = fullSet.sample(frac = 1, replace = True, weights = fullTarget.replace(1,10).replace(0,1) , random_state = RSTATE)\n",
    "balancedTarget = fullTarget.sample(frac = 1, replace = True, weights = fullTarget.replace(1,10).replace(0,1) , random_state = RSTATE)\n",
    "\n",
    "balancedTraining, balancedTesting = train_test_split(balancedSet, test_size = .1, random_state = RSTATE)\n",
    "balancedTargetTraining, balancedTargetTesting = train_test_split(balancedTarget, test_size = .1, random_state = RSTATE)\n",
    "\n",
    "print(\"Oversampled set:\")\n",
    "balancedTarget.value_counts()"
   ]
  },
  {
   "cell_type": "markdown",
   "id": "951d311c",
   "metadata": {},
   "source": [
    "***\n",
    "### 13. Retrain both classifiers on balanced training sets, and find the score, confusion matrix, and AUC for each. Which classifier performs better?\n",
    "***"
   ]
  },
  {
   "cell_type": "code",
   "execution_count": 266,
   "id": "1cdfa095",
   "metadata": {},
   "outputs": [
    {
     "name": "stdout",
     "output_type": "stream",
     "text": [
      "Categorical Naive Bayes:\n",
      "Training Score:  0.6140710566780868\n",
      "Test Score:  0.604758436513717\n",
      "[[TN,FP],[FN,TP]]\n",
      " [[ 8659  9409]\n",
      " [ 6525 16595]]\n",
      "ROC Area under curve:  0.5985109453866324\n"
     ]
    },
    {
     "data": {
      "image/png": "[encoded data removed]",
      "text/plain": [
       "<Figure size 432x288 with 1 Axes>"
      ]
     },
     "metadata": {
      "needs_background": "light"
     },
     "output_type": "display_data"
    },
    {
     "name": "stdout",
     "output_type": "stream",
     "text": [
      "\n",
      "Nearest Neighbor:\n",
      "Training Score:  0.6192236100245488\n",
      "Test Score:  0.5933478999757222\n",
      "[[TN,FP],[FN,TP]]\n",
      " [[13929  4139]\n",
      " [11651 11469]]\n",
      "ROC Area under curve:  0.633492489541624\n"
     ]
    },
    {
     "data": {
      "text/plain": [
       "<sklearn.metrics._plot.roc_curve.RocCurveDisplay at 0x1da8282a520>"
      ]
     },
     "execution_count": 266,
     "metadata": {},
     "output_type": "execute_result"
    },
    {
     "data": {
      "image/png": "[encoded data removed]",
      "text/plain": [
       "<Figure size 432x288 with 1 Axes>"
      ]
     },
     "metadata": {
      "needs_background": "light"
     },
     "output_type": "display_data"
    }
   ],
   "source": [
    "cnb.fit(balancedTraining, balancedTargetTraining)\n",
    "knn.fit(balancedTraining, balancedTargetTraining)\n",
    "\n",
    "cnbScore = cnb.predict(balancedSet)\n",
    "knnScore = knn.predict(balancedSet)\n",
    "\n",
    "print(\"Categorical Naive Bayes:\")\n",
    "print(\"Training Score: \", cnb.score(balancedTraining, balancedTargetTraining))\n",
    "print(\"Test Score: \", cnb.score(balancedTesting, balancedTargetTesting))\n",
    "print(\"[[TN,FP],[FN,TP]]\\n\", confusion_matrix(balancedTarget, cnbScore))\n",
    "print(\"ROC Area under curve: \", roc_auc_score(balancedTarget, cnbScore))\n",
    "RocCurveDisplay.from_predictions(balancedTarget, cnbScore)\n",
    "plt.show()\n",
    "\n",
    "print(\"\\nNearest Neighbor:\")\n",
    "print(\"Training Score: \", knn.score(balancedTraining, balancedTargetTraining))\n",
    "print(\"Test Score: \", knn.score(balancedTesting, balancedTargetTesting))\n",
    "print(\"[[TN,FP],[FN,TP]]\\n\", confusion_matrix(balancedTarget, knnScore))\n",
    "print(\"ROC Area under curve: \", roc_auc_score(balancedTarget, knnScore))\n",
    "RocCurveDisplay.from_predictions(balancedTarget, knnScore)"
   ]
  },
  {
   "cell_type": "markdown",
   "id": "4fe20c4d",
   "metadata": {},
   "source": [
    "We can now that the nearest neighbor classifier is preforming slightly better than the naive Bayes classifier, the ROC_AUC score is now closer to 1 for the nearest neighbor.\n",
    "***\n",
    "### 14. So far, we have been using data about our clients to predict subscriptions. But perhaps their decisions are influenced more by the overall health of the economy than by their individual circumstances.\n",
    "### Let’s try the input variables described as “social and economic context attributes” in bank-additional-names.txt. These features are quantitative, so you can use Gaussian Naive Bayes. Based on the score, confusion matrix, and AUC, how well does this data predict the response?\n",
    "***"
   ]
  },
  {
   "cell_type": "code",
   "execution_count": 267,
   "id": "dc21f6ac",
   "metadata": {},
   "outputs": [
    {
     "name": "stdout",
     "output_type": "stream",
     "text": [
      "Gaussian Naive Bayes:\n",
      "Training Score:  0.787801127626858\n",
      "Test Score:  0.7766448167030833\n",
      "[[TN,FP],[FN,TP]]\n",
      " [[27798  8750]\n",
      " [ 3528  1112]]\n",
      "ROC Area under curve:  0.5001219935616081\n"
     ]
    },
    {
     "data": {
      "image/png": "[encoded data removed]",
      "text/plain": [
       "<Figure size 432x288 with 1 Axes>"
      ]
     },
     "metadata": {
      "needs_background": "light"
     },
     "output_type": "display_data"
    },
    {
     "name": "stdout",
     "output_type": "stream",
     "text": [
      "\n",
      "Nearest Neighbor:\n",
      "Training Score:  0.9215247241630473\n",
      "Test Score:  0.8812818645302258\n",
      "[[TN,FP],[FN,TP]]\n",
      " [[35285  1263]\n",
      " [ 4463   177]]\n",
      "ROC Area under curve:  0.5017946286036691\n"
     ]
    },
    {
     "data": {
      "text/plain": [
       "<sklearn.metrics._plot.roc_curve.RocCurveDisplay at 0x1da8cd37ee0>"
      ]
     },
     "execution_count": 267,
     "metadata": {},
     "output_type": "execute_result"
    },
    {
     "data": {
      "image/png": "[encoded data removed]",
      "text/plain": [
       "<Figure size 432x288 with 1 Axes>"
      ]
     },
     "metadata": {
      "needs_background": "light"
     },
     "output_type": "display_data"
    }
   ],
   "source": [
    "from sklearn.naive_bayes import GaussianNB\n",
    "\n",
    "gnb = GaussianNB()\n",
    "gnb.fit(trainingSE, yTrain)\n",
    "knn.fit(trainingSE, yTrain)\n",
    "gnbScore = gnb.predict(pd.concat([testingSE, trainingSE]))\n",
    "knnScore = knn.predict(pd.concat([testingSE, trainingSE]))\n",
    "\n",
    "print(\"Gaussian Naive Bayes:\")\n",
    "print(\"Training Score: \", gnb.score(trainingSE, yTrain))\n",
    "print(\"Test Score: \", gnb.score(testingSE, yTest))\n",
    "print(\"[[TN,FP],[FN,TP]]\\n\", confusion_matrix(fullTarget, gnbScore))\n",
    "print(\"ROC Area under curve: \", roc_auc_score(fullTarget, gnbScore))\n",
    "RocCurveDisplay.from_predictions(fullTarget, gnbScore)\n",
    "plt.show()\n",
    "\n",
    "print(\"\\nNearest Neighbor:\")\n",
    "print(\"Training Score: \", knn.score(trainingSE, yTrain))\n",
    "print(\"Test Score: \", knn.score(testingSE, yTest))\n",
    "print(\"[[TN,FP],[FN,TP]]\\n\", confusion_matrix(fullTarget, knnScore))\n",
    "print(\"ROC Area under curve: \", roc_auc_score(fullTarget, knnScore))\n",
    "RocCurveDisplay.from_predictions(balancedTarget, knnScore)"
   ]
  },
  {
   "cell_type": "markdown",
   "id": "6784a779",
   "metadata": {},
   "source": [
    "With the social and economic data added in the gaussian naive Bayes classifier does not preform better than the categorical naive Bayes classifier.\n",
    "***\n",
    "### 15. Do the results of the last experiment change if the training set is balanced?\n",
    "***"
   ]
  },
  {
   "cell_type": "code",
   "execution_count": 269,
   "id": "0514f260",
   "metadata": {},
   "outputs": [
    {
     "name": "stdout",
     "output_type": "stream",
     "text": [
      "Gaussian Naive Bayes:\n",
      "Training Score:  0.7109444549353907\n",
      "Test Score:  0.708667152221413\n",
      "[[TN,FP],[FN,TP]]\n",
      " [[13311  4757]\n",
      " [ 7158 15962]]\n",
      "ROC Area under curve:  0.7135573856702822\n"
     ]
    },
    {
     "data": {
      "image/png": "[encoded data removed]",
      "text/plain": [
       "<Figure size 432x288 with 1 Axes>"
      ]
     },
     "metadata": {
      "needs_background": "light"
     },
     "output_type": "display_data"
    },
    {
     "name": "stdout",
     "output_type": "stream",
     "text": [
      "\n",
      "Nearest Neighbor:\n",
      "Training Score:  0.9693544471121422\n",
      "Test Score:  0.9077445982034474\n",
      "[[TN,FP],[FN,TP]]\n",
      " [[17583   485]\n",
      " [ 1031 22089]]\n",
      "ROC Area under curve:  0.9642817684901253\n"
     ]
    },
    {
     "data": {
      "image/png": "[encoded data removed]",
      "text/plain": [
       "<Figure size 432x288 with 1 Axes>"
      ]
     },
     "metadata": {
      "needs_background": "light"
     },
     "output_type": "display_data"
    }
   ],
   "source": [
    "fullSetSE = pd.concat([trainingSE, testingSE])\n",
    "balancedSetSE = fullSetSE.sample(frac = 1, replace = True, weights = fullTarget.replace(1,10).replace(0,1) , random_state = RSTATE)\n",
    "\n",
    "balancedTrainingSE, balancedTestingSE = train_test_split(balancedSetSE, test_size = .1, random_state = RSTATE)\n",
    "\n",
    "gnb.fit(balancedTrainingSE, balancedTargetTraining)\n",
    "knn.fit(balancedTrainingSE, balancedTargetTraining)\n",
    "gnbScore = gnb.predict(balancedSetSE)\n",
    "knnScore = knn.predict(balancedSetSE)\n",
    "\n",
    "print(\"Gaussian Naive Bayes:\")\n",
    "print(\"Training Score: \", gnb.score(balancedTrainingSE, balancedTargetTraining))\n",
    "print(\"Test Score: \", gnb.score(balancedTestingSE, balancedTargetTesting))\n",
    "print(\"[[TN,FP],[FN,TP]]\\n\", confusion_matrix(balancedTarget, gnbScore))\n",
    "print(\"ROC Area under curve: \", roc_auc_score(balancedTarget, gnbScore))\n",
    "RocCurveDisplay.from_predictions(balancedTarget, gnbScore)\n",
    "plt.show()\n",
    "\n",
    "print(\"\\nNearest Neighbor:\")\n",
    "print(\"Training Score: \", knn.score(balancedTrainingSE, balancedTargetTraining))\n",
    "print(\"Test Score: \", knn.score(balancedTestingSE, balancedTargetTesting))\n",
    "print(\"[[TN,FP],[FN,TP]]\\n\", confusion_matrix(balancedTarget, knnScore))\n",
    "print(\"ROC Area under curve: \", roc_auc_score(balancedTarget, knnScore))\n",
    "RocCurveDisplay.from_predictions(balancedTarget, knnScore)\n",
    "plt.show()"
   ]
  },
  {
   "cell_type": "markdown",
   "id": "30cc8dc2",
   "metadata": {},
   "source": [
    "Yes, balancing the data through oversampling increased the preformance of both of the classifiers."
   ]
  }
 ],
 "metadata": {
  "kernelspec": {
   "display_name": "Python 3 (ipykernel)",
   "language": "python",
   "name": "python3"
  },
  "language_info": {
   "codemirror_mode": {
    "name": "ipython",
    "version": 3
   },
   "file_extension": ".py",
   "mimetype": "text/x-python",
   "name": "python",
   "nbconvert_exporter": "python",
   "pygments_lexer": "ipython3",
   "version": "3.8.8"
  }
 },
 "nbformat": 4,
 "nbformat_minor": 5
}
